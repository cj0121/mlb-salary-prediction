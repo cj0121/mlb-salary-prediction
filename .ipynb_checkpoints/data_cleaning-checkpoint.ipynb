{
 "cells": [
  {
   "cell_type": "markdown",
   "id": "4d2a19d5",
   "metadata": {},
   "source": [
    "# Data Wrangling"
   ]
  },
  {
   "cell_type": "code",
   "execution_count": 1,
   "id": "184a1e7b",
   "metadata": {},
   "outputs": [],
   "source": [
    "from pybaseball import batting_stats\n",
    "from pybaseball import playerid_lookup\n",
    "from pybaseball import player_search_list\n",
    "from pybaseball import playerid_reverse_lookup\n",
    "import numpy as np\n",
    "import pandas as pd\n",
    "import csv"
   ]
  },
  {
   "cell_type": "code",
   "execution_count": null,
   "id": "526f958d",
   "metadata": {},
   "outputs": [],
   "source": [
    "salary_df = pd.read_csv('mlb-free-agency.csv')\n",
    "salary_df = salary_df[salary_df['total_salary'].notna()]\n",
    "salary_df = salary_df.drop([0])"
   ]
  },
  {
   "cell_type": "code",
   "execution_count": null,
   "id": "06ab329c",
   "metadata": {
    "scrolled": true
   },
   "outputs": [],
   "source": [
    "# drop first column and reset index\n",
    "salary_df.drop(columns=salary_df.columns[0], axis=1, inplace=True)\n",
    "salary_df.reset_index(drop=True)"
   ]
  },
  {
   "cell_type": "code",
   "execution_count": null,
   "id": "0b8beb1c",
   "metadata": {},
   "outputs": [],
   "source": [
    "# drop all pitchers: SP and RP\n",
    "drop_SP = salary_df[salary_df['position'] == 'SP'].index\n",
    "salary_df.drop(drop_SP, inplace = True)\n",
    "drop_RP = salary_df[salary_df['position'] == 'RP'].index\n",
    "salary_df.drop(drop_RP, inplace = True)\n",
    "# replace LF,CF,RF with OF\n",
    "salary_df.position.replace(['LF', 'CF', 'RF'], 'OF', inplace=True)"
   ]
  },
  {
   "cell_type": "code",
   "execution_count": null,
   "id": "165e7d61",
   "metadata": {
    "scrolled": true
   },
   "outputs": [],
   "source": [
    "salary_df.sort_values('name', inplace=True)\n",
    "salary_df.reset_index(drop=True, inplace=True)"
   ]
  },
  {
   "cell_type": "code",
   "execution_count": null,
   "id": "bb9d3cd2",
   "metadata": {
    "scrolled": true
   },
   "outputs": [],
   "source": [
    "# check if there's any players who share the same name\n",
    "# 1. keep entires with unique ID\n",
    "unique = salary_df.drop_duplicates(subset=['spotracID'])\n",
    "# 2. check if there's any duplciate name in 'Unique'\n",
    "unique[unique.duplicated(subset=['name'], keep=False)]\n",
    "# there isn't any"
   ]
  },
  {
   "cell_type": "markdown",
   "id": "16eddaa8",
   "metadata": {},
   "source": [
    "## Lookup fangraphs playerID using there name"
   ]
  },
  {
   "cell_type": "code",
   "execution_count": null,
   "id": "e8f53511",
   "metadata": {
    "scrolled": true
   },
   "outputs": [],
   "source": [
    "# create playersearch DataFrame:\n",
    "\n",
    "player_search = salary_df[['name','spotracID','spotracLink']].copy()\n",
    "player_search.drop_duplicates(subset=['name'], keep='first', inplace=True)"
   ]
  },
  {
   "cell_type": "code",
   "execution_count": null,
   "id": "d168e445",
   "metadata": {},
   "outputs": [],
   "source": [
    "for i, row in player_search.iterrows():\n",
    "    player_search.at[i, 'first_name'] = row['name'].split()[0].lower()\n",
    "    if len(row['name'].split()) <= 2:\n",
    "        player_search.at[i, 'last_name'] = row['name'].split()[-1].lower()\n",
    "    else:\n",
    "        player_search.at[i, 'last_name'] = row['name'].split()[1].lower()"
   ]
  },
  {
   "cell_type": "code",
   "execution_count": null,
   "id": "75122101",
   "metadata": {},
   "outputs": [],
   "source": [
    "# change a.j. to 'a. j.'\n",
    "\n",
    "for i, row in player_search.iterrows():\n",
    "    if '.' in row.first_name:\n",
    "        row.first_name = row.first_name.replace('.', '. ', 1)\n",
    "        player_search.at[i, 'first_name'] = row.first_name\n",
    "player_search"
   ]
  },
  {
   "cell_type": "code",
   "execution_count": null,
   "id": "4774d1e7",
   "metadata": {},
   "outputs": [],
   "source": [
    "# create a list of tuples(last, first) to pass into the player lookup function\n",
    "name_list = []\n",
    "\n",
    "for i, row in player_search.iterrows():\n",
    "    tup = (row.last_name, row.first_name)\n",
    "    name_list.append(tup)\n",
    "name_list"
   ]
  },
  {
   "cell_type": "code",
   "execution_count": null,
   "id": "01ef9506",
   "metadata": {},
   "outputs": [],
   "source": [
    "playerID = player_search_list(name_list)"
   ]
  },
  {
   "cell_type": "code",
   "execution_count": null,
   "id": "0f784e99",
   "metadata": {
    "scrolled": true
   },
   "outputs": [],
   "source": [
    "playerID"
   ]
  },
  {
   "cell_type": "code",
   "execution_count": null,
   "id": "ae17fd5f",
   "metadata": {
    "scrolled": false
   },
   "outputs": [],
   "source": [
    "# check which entires contain duplicate names\n",
    "# remove all players whose mlb_played_last <= 2010\n",
    "\n",
    "pd.set_option('display.max_rows', 10)\n",
    "playerID[playerID.duplicated(subset=['name_last', 'name_first'], keep=False)]\n",
    "idx_drop = playerID[playerID['mlb_played_last']<=2010].index\n",
    "playerID.drop(idx_drop, inplace=True)"
   ]
  },
  {
   "cell_type": "code",
   "execution_count": null,
   "id": "0c23e7c9",
   "metadata": {
    "scrolled": true
   },
   "outputs": [],
   "source": [
    "# check if there are still duplicated players\n",
    "\n",
    "playerID[playerID.duplicated(subset=['name_last', 'name_first'], keep=False)]\n",
    "# drop chris young 3196 and taylor michael 2591, they are not the ones we're looking for\n",
    "cy_idx = playerID[playerID['key_fangraphs']==3196].index\n",
    "mt_idx = playerID[playerID['key_fangraphs']==2591].index\n",
    "playerID.drop(cy_idx, inplace=True)\n",
    "playerID.drop(mt_idx, inplace=True)"
   ]
  },
  {
   "cell_type": "code",
   "execution_count": null,
   "id": "0930b25a",
   "metadata": {},
   "outputs": [],
   "source": [
    "print(f\"Number of players we searched: {len(name_list)}\")\n",
    "print(f\"Number of result that we got: {len(playerID.index)}\")"
   ]
  },
  {
   "cell_type": "code",
   "execution_count": null,
   "id": "bb396bdb",
   "metadata": {},
   "outputs": [],
   "source": [
    "# create a list of player name that returned positive results\n",
    "name_list_positive = []\n",
    "for i, row in playerID.iterrows():\n",
    "    tup = (row.name_last, row.name_first)\n",
    "    name_list_positive.append(tup)\n",
    "# check who are we still missing\n",
    "name_list_missing = [x for x in name_list if x not in name_list_positive]\n",
    "name_list_missing"
   ]
  },
  {
   "cell_type": "code",
   "execution_count": null,
   "id": "0921bdec",
   "metadata": {},
   "outputs": [],
   "source": [
    "# create a 'fullname' column in salary_df for merge with playerID\n",
    "\n",
    "salary_df['full_name'] = salary_df['name'].str.lower().str.replace(' ', '')\n",
    "\n",
    "# create a fullname column in playerID\n",
    "\n",
    "playerID['full_name'] = playerID['name_first'] + playerID['name_last']\n",
    "playerID['full_name'] = playerID['full_name'].str.lower().str.replace(' ', '')"
   ]
  },
  {
   "cell_type": "markdown",
   "id": "89ccde0f",
   "metadata": {},
   "source": [
    "## Merege salary and playerID"
   ]
  },
  {
   "cell_type": "code",
   "execution_count": null,
   "id": "a631a60c",
   "metadata": {
    "scrolled": true
   },
   "outputs": [],
   "source": [
    "salaryFinalDF = pd.merge(salary_df, playerID, on='full_name', how='inner')\n",
    "salaryFinalDF"
   ]
  },
  {
   "cell_type": "code",
   "execution_count": null,
   "id": "3c83fd42",
   "metadata": {
    "scrolled": true
   },
   "outputs": [],
   "source": [
    "# drop unwanted columns\n",
    "salaryFinalDF.drop(columns=['contract_length', \n",
    "                            'total_salary', \n",
    "                            'full_name', \n",
    "                            'name_last', \n",
    "                            'name_first',\n",
    "                            'key_mlbam', \n",
    "                            'key_retro',\n",
    "                            'key_bbref',\n",
    "                            'spotracID',\n",
    "                            'spotracLink'], inplace=True)\n",
    "salaryFinalDF"
   ]
  },
  {
   "cell_type": "code",
   "execution_count": null,
   "id": "3f8f9ea6",
   "metadata": {
    "scrolled": true
   },
   "outputs": [],
   "source": [
    "# rename columns\n",
    "salaryFinalDF.rename(columns={'year': 'year_fa',\n",
    "                              'key_fangraphs': 'IDfg',\n",
    "                              'mlb_played_first': 'first_played',\n",
    "                              'mlb_played_last': 'last_played',\n",
    "                              'to_tam': 'to_team'}, inplace=True)\n",
    "salaryFinalDF"
   ]
  },
  {
   "cell_type": "markdown",
   "id": "b58e7846",
   "metadata": {},
   "source": [
    "## import mlb batting stats from 07-20 and clean data furthermore\n",
    "1. Remove entries with BA less than 400:\n",
    "2. Remove unwanted variables"
   ]
  },
  {
   "cell_type": "code",
   "execution_count": null,
   "id": "17808ea5",
   "metadata": {},
   "outputs": [],
   "source": [
    "# import mlb all batting stats from 2007-2020\n",
    "batting_df = pd.read_csv('mlb-batting.csv')\n",
    "batting_df.head()\n",
    "print(batting_df.shape)\n",
    "# drop rows with AB < 400\n",
    "# batting_df = batting_df.drop(batting_df[batting_df['AB']<400].index)\n",
    "# batting_df.shape"
   ]
  },
  {
   "cell_type": "code",
   "execution_count": null,
   "id": "dfc5cfea",
   "metadata": {},
   "outputs": [],
   "source": [
    "# drop all unwanted stats\n",
    "pd.set_option('display.max_columns', None)\n",
    "batting_df.head()"
   ]
  },
  {
   "cell_type": "code",
   "execution_count": null,
   "id": "b706bbad",
   "metadata": {},
   "outputs": [],
   "source": [
    "var_list_basic = ['IDfg', \n",
    "            'Season', \n",
    "            'Name', \n",
    "            'Team', \n",
    "            'Age', \n",
    "            'G', \n",
    "            'PA', \n",
    "            'AB', \n",
    "            'R', \n",
    "            'H',\n",
    "            '2B',\n",
    "            '3B',\n",
    "            'HR',\n",
    "            'RBI',\n",
    "            'SB',\n",
    "            'CS',\n",
    "            'BB',\n",
    "            'SO',\n",
    "            'GDP',\n",
    "            'HBP',\n",
    "            'SH',\n",
    "            'SF',\n",
    "            'IBB',\n",
    "            'AVG',\n",
    "            'OBP',\n",
    "            'SLG',\n",
    "            'BABIP',\n",
    "            'ISO',\n",
    "            'OPS',\n",
    "            'wRC',\n",
    "            'wRAA',\n",
    "            'wOBA',\n",
    "            'wRC+',\n",
    "            'WPA',\n",
    "            'WAR']\n",
    "# not the full list\n",
    "batting_basic_df = batting_df[var_list_basic]\n",
    "batting_basic_df = batting_basic_df.sort_values(by=['IDfg', 'Season'], ascending=True)\n",
    "batting_basic_df.reset_index(drop=True, inplace=True)\n",
    "batting_basic_df"
   ]
  },
  {
   "cell_type": "markdown",
   "id": "4a17c68b",
   "metadata": {},
   "source": [
    "# Merge salary and batting for EDA"
   ]
  },
  {
   "cell_type": "code",
   "execution_count": null,
   "id": "207e7f08",
   "metadata": {},
   "outputs": [],
   "source": [
    "# re_index batting_basic_df\n",
    "batting_basic_df.reset_index(drop=True, inplace=True)\n",
    "batting_basic_df = batting_basic_df.set_index(['IDfg'])\n",
    "batting_basic_df.sort_index(level=['IDfg'], inplace=True)"
   ]
  },
  {
   "cell_type": "code",
   "execution_count": null,
   "id": "4db84953",
   "metadata": {},
   "outputs": [],
   "source": [
    "# aggregate batting_basic based on FA year\n",
    "agg_method = {'Age':'max',\n",
    "             'G':'sum',\n",
    "             'PA':'sum',\n",
    "             'AB':'sum',\n",
    "             'R':'sum',\n",
    "             'H':'sum',\n",
    "             '2B':'sum',\n",
    "             '3B':'sum',\n",
    "             'HR':'sum',\n",
    "             'RBI':'sum',\n",
    "             'SB':'sum',\n",
    "             'CS':'sum',\n",
    "             'BB':'sum',\n",
    "             'SO':'sum',\n",
    "             'GDP':'sum',\n",
    "             'HBP':'sum',\n",
    "             'SH':'sum',\n",
    "             'SF':'sum',\n",
    "             'IBB':'sum',\n",
    "             'AVG':'mean',\n",
    "             'OBP':'mean',\n",
    "             'SLG':'mean',\n",
    "             'BABIP':'mean',\n",
    "             'ISO':'mean',\n",
    "             'OPS':'mean',\n",
    "             'wRC':'sum',\n",
    "             'wRAA':'sum',\n",
    "             'wRC+':'sum',\n",
    "             'WPA':'sum',\n",
    "             'WAR':'sum'}\n",
    "batting_aggDF = pd.DataFrame()\n",
    "for row in salaryFinalDF.itertuples():\n",
    "    selected_years = [row.year_fa-1, row.year_fa-2, row.year_fa-3, row.year_fa-4, row.year_fa-5,]\n",
    "    player = batting_basic_df.loc[row.IDfg]\n",
    "    player = player[player['Season'].isin(selected_years)].groupby(by=['IDfg','Name']).agg(agg_method)\n",
    "    player['Year_FA']=row.year_fa\n",
    "    player['Salary']=row.avg_salary\n",
    "    batting_aggDF = batting_aggDF.append(player)"
   ]
  },
  {
   "cell_type": "code",
   "execution_count": null,
   "id": "4ccb8a11",
   "metadata": {},
   "outputs": [],
   "source": [
    "# natural log salaries\n",
    "batting_aggDF.insert(len(batting_aggDF.columns), 'Salary_log',\n",
    "         np.log(batting_aggDF['Salary']))"
   ]
  },
  {
   "cell_type": "code",
   "execution_count": null,
   "id": "3c07c317",
   "metadata": {},
   "outputs": [],
   "source": [
    "batting_aggDF"
   ]
  }
 ],
 "metadata": {
  "kernelspec": {
   "display_name": "Python 3 (ipykernel)",
   "language": "python",
   "name": "python3"
  },
  "language_info": {
   "codemirror_mode": {
    "name": "ipython",
    "version": 3
   },
   "file_extension": ".py",
   "mimetype": "text/x-python",
   "name": "python",
   "nbconvert_exporter": "python",
   "pygments_lexer": "ipython3",
   "version": "3.9.7"
  }
 },
 "nbformat": 4,
 "nbformat_minor": 5
}
