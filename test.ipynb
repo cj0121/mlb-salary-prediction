{
 "cells": [
  {
   "cell_type": "markdown",
   "id": "f1a219fd",
   "metadata": {},
   "source": [
    "## Get MLB batting stats from 2007 to 2021"
   ]
  },
  {
   "cell_type": "code",
   "execution_count": 2,
   "id": "e75bc06f",
   "metadata": {},
   "outputs": [],
   "source": [
    "import pandas as pd\n",
    "import csv\n",
    "from pybaseball import batting_stats"
   ]
  },
  {
   "cell_type": "code",
   "execution_count": 3,
   "id": "9b217355",
   "metadata": {},
   "outputs": [],
   "source": [
    "data = batting_stats(2007, 2021, qual=1)"
   ]
  },
  {
   "cell_type": "code",
   "execution_count": 5,
   "id": "51f9f96b",
   "metadata": {},
   "outputs": [
    {
     "name": "stdout",
     "output_type": "stream",
     "text": [
      "<class 'pandas.core.frame.DataFrame'>\n",
      "Int64Index: 14118 entries, 292 to 1355\n",
      "Columns: 319 entries, IDfg to xwOBA\n",
      "dtypes: float64(277), int64(38), object(4)\n",
      "memory usage: 34.5+ MB\n"
     ]
    }
   ],
   "source": [
    "data.info()"
   ]
  },
  {
   "cell_type": "code",
   "execution_count": 6,
   "id": "32c18360",
   "metadata": {},
   "outputs": [],
   "source": [
    "data.to_csv('mlb-batting.csv')"
   ]
  }
 ],
 "metadata": {
  "kernelspec": {
   "display_name": "Python 3 (ipykernel)",
   "language": "python",
   "name": "python3"
  },
  "language_info": {
   "codemirror_mode": {
    "name": "ipython",
    "version": 3
   },
   "file_extension": ".py",
   "mimetype": "text/x-python",
   "name": "python",
   "nbconvert_exporter": "python",
   "pygments_lexer": "ipython3",
   "version": "3.9.7"
  }
 },
 "nbformat": 4,
 "nbformat_minor": 5
}
